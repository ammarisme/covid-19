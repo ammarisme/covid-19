{
  "nbformat": 4,
  "nbformat_minor": 0,
  "metadata": {
    "colab": {
      "name": "CV19 Dataset Explore.ipynb",
      "provenance": [],
      "collapsed_sections": [],
      "include_colab_link": true
    },
    "kernelspec": {
      "name": "python3",
      "display_name": "Python 3"
    }
  },
  "cells": [
    {
      "cell_type": "markdown",
      "metadata": {
        "id": "view-in-github",
        "colab_type": "text"
      },
      "source": [
        "<a href=\"https://colab.research.google.com/github/ammarisme/covid-19/blob/master/CV19_Dataset_Explore.ipynb\" target=\"_parent\"><img src=\"https://colab.research.google.com/assets/colab-badge.svg\" alt=\"Open In Colab\"/></a>"
      ]
    },
    {
      "cell_type": "code",
      "metadata": {
        "id": "5hxyg5RnAWLV",
        "colab_type": "code",
        "colab": {}
      },
      "source": [
        "!pip install torch-geometric \\\n",
        "  torch-sparse==latest+cu101 \\\n",
        "  torch-scatter==latest+cu101 \\\n",
        "  torch-cluster==latest+cu101 \\\n",
        "  -f https://pytorch-geometric.com/whl/torch-1.4.0.html"
      ],
      "execution_count": 0,
      "outputs": []
    },
    {
      "cell_type": "code",
      "metadata": {
        "id": "yQ-Ce_oZAeFm",
        "colab_type": "code",
        "colab": {}
      },
      "source": [
        "import pandas as pd\n",
        "import numpy as np\n",
        "import seaborn as sns; sns.set()\n",
        "import matplotlib.pyplot as plt"
      ],
      "execution_count": 0,
      "outputs": []
    },
    {
      "cell_type": "code",
      "metadata": {
        "id": "-o4WRgUnCC10",
        "colab_type": "code",
        "colab": {}
      },
      "source": [
        "from google.colab import drive\n",
        "drive.mount('/content/drive')"
      ],
      "execution_count": 0,
      "outputs": []
    },
    {
      "cell_type": "code",
      "metadata": {
        "id": "ZbKnxqXaCDxo",
        "colab_type": "code",
        "colab": {}
      },
      "source": [
        "PATH = \"/content/drive/My Drive/covid\""
      ],
      "execution_count": 0,
      "outputs": []
    },
    {
      "cell_type": "code",
      "metadata": {
        "id": "VLt53Jm9CTRr",
        "colab_type": "code",
        "colab": {}
      },
      "source": [
        "original_data = pd.read_csv(PATH+'/input/raw/worldwide_cases_27_04.csv')\n",
        "#cleaning the data for further processing\n",
        "original_data = original_data[['cases','deaths','popData2018','countriesAndTerritories','geoId','countryterritoryCode','continentExp']] \n",
        "\n",
        "original_data.isna().any()"
      ],
      "execution_count": 0,
      "outputs": []
    },
    {
      "cell_type": "code",
      "metadata": {
        "id": "g67BuAdOWO9y",
        "colab_type": "code",
        "colab": {}
      },
      "source": [
        "def clean_dataset(original_data, min_count):\n",
        "  original_data = original_data.reindex(index=original_data.index[::-1])\n",
        "  \"\"\"\n",
        "  remove any country with missing values in  death or case or countriesAndTerritories  data. Because these are critical.\n",
        "  \"\"\"\n",
        "  \n",
        "\n",
        "  data_1 = pd.DataFrame(columns = original_data.columns)\n",
        "  data_1 = data_1.assign(_country_code =[])\n",
        "  country_code = 1\n",
        "  for country in original_data['countriesAndTerritories'].unique():\n",
        "    if original_data[original_data['countriesAndTerritories']==country]['countriesAndTerritories'].isna().any() == False and \\\n",
        "    original_data[original_data['countriesAndTerritories']==country]['cases'].isna().any() == False and \\\n",
        "    len(original_data[original_data['countriesAndTerritories']==country] ) >= min_count and  \\\n",
        "    original_data[original_data['countriesAndTerritories']==country]['deaths'].isna().any() == False :    \n",
        "      temp_data = pd.DataFrame(columns = data_1.columns)\n",
        "      temp_data = temp_data.append(original_data[original_data['countriesAndTerritories']==country])\n",
        "      temp_data['_country_code'] =int(country_code)\n",
        "      country_code += 1\n",
        "      data_1 = data_1.append(temp_data)\n",
        "\n",
        "  \"\"\"\n",
        "  replace missing geoid, countryterritory code with the countriesAndTerritories\n",
        "  \"\"\"\n",
        "  data_1['geoId'] = data_1['geoId'].fillna(data_1['countriesAndTerritories']+ '_1')\n",
        "  data_1['countryterritoryCode'] = data_1['geoId'].fillna(data_1['countriesAndTerritories']+ '_1')\n",
        "\n",
        "  \"\"\"\n",
        "  remove missing population countries\n",
        "  \"\"\"\n",
        "  data_2 = pd.DataFrame(columns = data_1.columns)\n",
        "  for country in data_1['countriesAndTerritories'].unique():\n",
        "    if data_1[data_1['countriesAndTerritories']==country]['popData2018'].isna().any() == False and \\\n",
        "    data_1[data_1['countriesAndTerritories']==country]['popData2018'].isnull().any() == False :\n",
        "      data_2 = data_2.append(data_1[data_1['countriesAndTerritories']==country])\n",
        "\n",
        "\n",
        "  print(len(data_2))\n",
        "  print(data_2.isna().any())\n",
        "  print(data_2.head())\n",
        "  return data_2"
      ],
      "execution_count": 0,
      "outputs": []
    },
    {
      "cell_type": "code",
      "metadata": {
        "id": "h1iuR4vUd4FX",
        "colab_type": "code",
        "colab": {}
      },
      "source": [
        "original_data = clean_dataset(original_data, 104)\n",
        "original_data.to_csv(PATH+'/input/raw/cleaned_worldwide_cases_27_04.csv', index=False)"
      ],
      "execution_count": 0,
      "outputs": []
    },
    {
      "cell_type": "code",
      "metadata": {
        "id": "1FapSdOM-rI-",
        "colab_type": "code",
        "colab": {}
      },
      "source": [
        "original_data[100:200]"
      ],
      "execution_count": 0,
      "outputs": []
    },
    {
      "cell_type": "code",
      "metadata": {
        "id": "AzPxRsz9Ie8b",
        "colab_type": "code",
        "colab": {}
      },
      "source": [
        "#I want to identify the best input length for the sequence for the input of NN. Considering the validation set.\n",
        "\n",
        "records_per_country = [[country, len(original_data[original_data['countriesAndTerritories'] == country ])] for country in original_data['countriesAndTerritories'].unique()]\n",
        "records_per_country = np.transpose(records_per_country)\n",
        "\n",
        "counts = np.array(records_per_country[1], dtype=np.int32)\n",
        "mu = np.mean(counts)\n",
        "sigma = np.std(counts)\n",
        "max_days = max(counts)\n",
        "records_bin_counts = np.bincount(counts)\n",
        "\n",
        "print('maximum days available :', max(counts))\n",
        "print('minimum days available :', min(counts))\n",
        "bins = np.array(range(max_days))\n",
        "\n",
        "print(records_bin_counts)\n"
      ],
      "execution_count": 0,
      "outputs": []
    },
    {
      "cell_type": "code",
      "metadata": {
        "id": "7PTJr3rGCb0l",
        "colab_type": "code",
        "colab": {}
      },
      "source": [
        "\n",
        "fig, ax = plt.subplots()\n",
        "\n",
        "# the histogram of the data\n",
        "n, bins, patches = ax.hist(bins, len(counts)-1, density=1)\n",
        "\n",
        "# add a 'best fit' line\n",
        "ax.plot(bins, counts, '--')\n",
        "ax.set_xlabel('Days available')\n",
        "ax.set_ylabel('Number of  Countries/Regions')\n",
        "ax.set_title(r'Histogram of Days of available data')\n",
        "\n",
        "# Tweak spacing to prevent clipping of ylabel\n",
        "fig.tight_layout()\n",
        "plt.show()"
      ],
      "execution_count": 0,
      "outputs": []
    },
    {
      "cell_type": "code",
      "metadata": {
        "id": "hkbT1HrIDFW-",
        "colab_type": "code",
        "colab": {}
      },
      "source": [
        "record_avail = []\n",
        "for available_days in range(len(records_bin_counts)):\n",
        "  number_of_countries_with_respect_to_available_days = records_bin_counts[available_days]\n",
        "  number_of_records_available = available_days * number_of_countries_with_respect_to_available_days\n",
        "  record_avail.append(number_of_records_available)\n",
        "plt.plot(record_avail)\n"
      ],
      "execution_count": 0,
      "outputs": []
    },
    {
      "cell_type": "code",
      "metadata": {
        "id": "us5EqlKnObiZ",
        "colab_type": "code",
        "colab": {}
      },
      "source": [
        "plt.plot(records_bin_counts)"
      ],
      "execution_count": 0,
      "outputs": []
    },
    {
      "cell_type": "code",
      "metadata": {
        "id": "dO-nzjUBOhvM",
        "colab_type": "code",
        "colab": {}
      },
      "source": [
        "n = [[country, len(original_data[original_data['countriesAndTerritories'] == country ])] for country in original_data['countriesAndTerritories'].unique()]\n",
        "n = np.array(n).T\n",
        "n = pd.DataFrame({\n",
        "    'c' : n[0],\n",
        "    'count' : np.array(n[1], dtype=np.int32)\n",
        "})\n",
        "\n",
        "print(n.head())\n"
      ],
      "execution_count": 0,
      "outputs": []
    },
    {
      "cell_type": "code",
      "metadata": {
        "id": "2xZXWaWeQkt9",
        "colab_type": "code",
        "colab": {}
      },
      "source": [
        "dataset_lengths = []\n",
        "for days in range(max_days):\n",
        "  number_of_countries = n[n['count'] > days]['count'].count()\n",
        "  dataset_lengths.append([days, days*number_of_countries])\n",
        "\n",
        "dataset_lengths = np.array(dataset_lengths).T\n",
        "dataset_lengths = pd.DataFrame({\n",
        "    'days' : dataset_lengths[0],\n",
        "    'records' : np.array(dataset_lengths[1], dtype=np.int32)\n",
        "})\n",
        "\n",
        "plt.plot(dataset_lengths['records'])\n",
        "\n",
        "print('Optimal number of days to choose from the dataset:' )\n",
        "print(dataset_lengths[dataset_lengths['records']==max(dataset_lengths['records'])])"
      ],
      "execution_count": 0,
      "outputs": []
    },
    {
      "cell_type": "code",
      "metadata": {
        "id": "LZDce0cTTAzp",
        "colab_type": "code",
        "colab": {}
      },
      "source": [
        "def generate_synthetic_data(sample_dataset,run_id, window = 0, sythesize_ratio = 2):\n",
        "    synthetic_data = pd.DataFrame(columns=sample_dataset.columns)\n",
        "    \n",
        "    for k in range(sythesize_ratio):\n",
        "      if len(synthetic_data) >= len(sample_dataset) * sythesize_ratio:\n",
        "        break;\n",
        "      #this loop generates a set that resembles the entire dataset\n",
        "      for country in sample_dataset['countriesAndTerritories'].unique():\n",
        "        country_sample = sample_dataset[sample_dataset['countriesAndTerritories'] == country]\n",
        "        country_synthetic = pd.DataFrame(columns=sample_dataset.columns)\n",
        "\n",
        "        #population data change\n",
        "        popData2018 = country_sample.iloc[0]['popData2018']\n",
        "        population_change_percentage = 1+ (np.random.normal(0,1) / 100)\n",
        "        population_new = np.round(population_change_percentage*popData2018)\n",
        "\n",
        "        #this loop generates a set that resembles the country sample\n",
        "        for i in range(len(country_sample)):\n",
        "            country_synthetic_temp = pd.DataFrame(columns=sample_dataset.columns)\n",
        "            beam = country_sample.iloc[i:i+window]\n",
        "            \n",
        "            #generate random variables\n",
        "            mean_cases = np.mean(beam['cases'].to_numpy())\n",
        "            std_cases = np.std(beam['cases'].to_numpy())\n",
        "            std_deaths = np.std(beam['deaths'].to_numpy())\n",
        "            mean_deaths = np.mean(beam['deaths'].to_numpy())\n",
        "\n",
        "            country_synthetic_temp['cases'] = pd.Series(np.round(max(0,np.random.normal(mean_cases, std_cases))))\n",
        "            country_synthetic_temp['deaths'] = pd.Series(np.round(max(0,np.random.normal(mean_deaths, std_deaths))))\n",
        "\n",
        "            country_synthetic_temp['popData2018'] = pd.Series(population_new)\n",
        "\n",
        "            country_synthetic_temp['countriesAndTerritories'] = pd.Series(beam['countriesAndTerritories'].tolist())\n",
        "            country_synthetic_temp['geoId'] = pd.Series(beam['geoId'].tolist())\n",
        "            country_synthetic_temp['countryterritoryCode'] = pd.Series(beam['countryterritoryCode'].tolist())\n",
        "            country_synthetic_temp['continentExp'] = pd.Series(beam['continentExp'].tolist())\n",
        "            \n",
        "            country_synthetic = country_synthetic.append(country_synthetic_temp, ignore_index=True)\n",
        "        synthetic_data = synthetic_data.append(country_synthetic, ignore_index=True)\n",
        "    synthetic_data.insert(len(synthetic_data.columns), \"syn_iter\", run_id)\n",
        "    return synthetic_data"
      ],
      "execution_count": 0,
      "outputs": []
    },
    {
      "cell_type": "code",
      "metadata": {
        "id": "RTd16sTrEhQF",
        "colab_type": "code",
        "colab": {}
      },
      "source": [
        "#testing for accuracy\n",
        "def verify_synthetic_data(synthetic_data,original_data, print_results = False):\n",
        "  countryterritoryCode ='CN'\n",
        "  #test_synthetic_data = synthetic_data[synthetic_data['countryterritoryCode'] == countryterritoryCode]\n",
        "  test_synthetic_data = synthetic_data\n",
        "  control_set = original_data #[original_data['countryterritoryCode']==countryterritoryCode]\n",
        "  case_mean = np.mean(control_set['cases'].to_numpy()) - np.mean(test_synthetic_data['cases'].to_numpy())\n",
        "  death_mean = np.mean(control_set['deaths'].to_numpy()) - np.mean(test_synthetic_data['deaths'].to_numpy())\n",
        "  pop_mean = np.mean(control_set['popData2018'].to_numpy()) - np.mean(test_synthetic_data['popData2018'].to_numpy())\n",
        "\n",
        "  case_std = np.std(control_set['cases'].to_numpy()) - np.mean(test_synthetic_data['cases'].to_numpy())\n",
        "  death_std = np.std(control_set['deaths'].to_numpy()) - np.mean(test_synthetic_data['deaths'].to_numpy())\n",
        "  pop_std = np.std(control_set['popData2018'].to_numpy()) - np.mean(test_synthetic_data['popData2018'].to_numpy())\n",
        "\n",
        "  if print_results:\n",
        "    print(test_synthetic_data.head())\n",
        "    print(control_set.head())\n",
        "    print('original data length : ', len(control_set))\n",
        "    print('synthetic data length : ',len(test_synthetic_data))\n",
        "    print('min sequence length : ',min([len(test_synthetic_data[test_synthetic_data['countryterritoryCode']==country]) for country in test_synthetic_data['countryterritoryCode'].unique()]))\n",
        "    print('max sequence length : ',max([len(test_synthetic_data[test_synthetic_data['countryterritoryCode']==country]) for country in test_synthetic_data['countryterritoryCode'].unique()]))\n",
        "\n",
        "    print('Mean diff. cases : ', np.mean(control_set['cases'].to_numpy()) - np.mean(test_synthetic_data['cases'].to_numpy()))\n",
        "    print('Mean diff. deaths : ', np.mean(control_set['deaths'].to_numpy()) - np.mean(test_synthetic_data['deaths'].to_numpy()))\n",
        "    print('Mean diff. population : ', np.mean(control_set['popData2018'].to_numpy()) - np.mean(test_synthetic_data['popData2018'].to_numpy()))\n",
        "  \n",
        "  return  [case_mean, death_mean, pop_mean, case_std , death_std , pop_std ]"
      ],
      "execution_count": 0,
      "outputs": []
    },
    {
      "cell_type": "code",
      "metadata": {
        "id": "JovUZAh6IRXw",
        "colab_type": "code",
        "colab": {}
      },
      "source": [
        " results = []\n",
        " for i in range(2,20):\n",
        "   syn_data = generate_synthetic_data(original_data,i, sythesize_ratio = 1)\n",
        "   print('window :', i, ' len :', len(syn_data))\n",
        "   results.append(verify_synthetic_data(syn_data,original_data))"
      ],
      "execution_count": 0,
      "outputs": []
    },
    {
      "cell_type": "code",
      "metadata": {
        "id": "QTrQzzhuPLcr",
        "colab_type": "code",
        "colab": {}
      },
      "source": [
        "results_arr = np.array(results)\n",
        "print(results_arr.shape)\n",
        "cases_mu_std = results_arr.T[[0,3]]\n",
        "deaths_mu_std =  results_arr.T[[1,4]]\n",
        "\n",
        "fig, axes = plt.subplots(nrows=1, ncols=3, figsize=(10, 3))\n",
        "axes[0].plot((cases_mu_std[0]-np.mean(cases_mu_std[0]))/np.std(cases_mu_std[0]))\n",
        "axes[0].set_title('\"Cases\" difference in mean')\n",
        "axes[0].set_xlabel('Window size')\n",
        "\n",
        "axes[1].plot((cases_mu_std[1]-np.mean(cases_mu_std[1]))/np.std(cases_mu_std[1]))\n",
        "axes[1].set_title('Diff. in std. deviation')\n",
        "axes[1].set_xlabel('Window size')\n",
        "\n",
        "ratio = cases_mu_std[1]/cases_mu_std[0]\n",
        "ratio = (ratio - np.mean(ratio) )/  np.std(ratio)\n",
        "\n",
        "axes[2].plot(ratio)\n",
        "axes[2].set_title('Ratio between  std. dev/ dif. in mean')\n",
        "axes[2].set_xlabel('Window size')\n",
        "\n",
        "fig.tight_layout()"
      ],
      "execution_count": 0,
      "outputs": []
    },
    {
      "cell_type": "code",
      "metadata": {
        "id": "d60Ud2FIU4yi",
        "colab_type": "code",
        "colab": {}
      },
      "source": [
        "fig, axes = plt.subplots(nrows=1, ncols=3, figsize=(10, 3))\n",
        "axes[0].plot((deaths_mu_std[0]-np.mean(deaths_mu_std[0]))/np.std(deaths_mu_std[0]))\n",
        "axes[0].set_title('\"Deaths\" difference in mean')\n",
        "axes[0].set_xlabel('Window size')\n",
        "\n",
        "axes[1].plot((deaths_mu_std[1]-np.mean(deaths_mu_std[1]))/np.std(deaths_mu_std[1]))\n",
        "axes[1].set_title('Diff. in std. deviation')\n",
        "axes[1].set_xlabel('Window size')\n",
        "\n",
        "ratio = deaths_mu_std[1]/deaths_mu_std[0]\n",
        "ratio = (ratio - np.mean(ratio) )/  np.std(ratio)\n",
        "\n",
        "axes[2].plot(ratio)\n",
        "axes[2].set_title('Ratio between  std. dev/ dif. in mean')\n",
        "axes[2].set_xlabel('Window size')\n",
        "\n",
        "fig.tight_layout()"
      ],
      "execution_count": 0,
      "outputs": []
    },
    {
      "cell_type": "code",
      "metadata": {
        "id": "Hz965wRiksO2",
        "colab_type": "code",
        "colab": {}
      },
      "source": [
        "run_id = 2842000 #ddmyyhh\n",
        "for i in range(50):\n",
        "  rand_number = np.random.normal(0,1)\n",
        "  if rand_number >= 0:\n",
        "    rand_number =1\n",
        "  else:\n",
        "    rand_number =0\n",
        "  window_size = rand_number*(15 + np.round(np.random.normal(0,1))) + (1 - rand_number)*(4 + np.round(np.random.normal(0,1)))\n",
        "  synthetic_data = generate_synthetic_data(original_data, run_id = str(i)+str(run_id), window = int(window_size), sythesize_ratio = 10)\n",
        "  synthetic_data.to_csv(PATH+'/input/raw/synthetic/synthetic_'+str(i)+'_dt27_04_'+str(int(window_size))+'.csv',  index=False )\n",
        "  print('synth step : ', i, ' len : ', len(synthetic_data))"
      ],
      "execution_count": 0,
      "outputs": []
    },
    {
      "cell_type": "code",
      "metadata": {
        "id": "qum_ts4-nLtg",
        "colab_type": "code",
        "colab": {}
      },
      "source": [
        "run_id = 2842001 #ddmyyhh\n",
        "for i in range(50):\n",
        "  window_size = 9 + np.around(np.round(np.random.normal(0,1)))\n",
        "  synthetic_data = generate_synthetic_data(original_data, run_id = str(i)+str(run_id), window = int(window_size), sythesize_ratio = 10)\n",
        "  synthetic_data.to_csv(PATH+'/input/raw/synthetic/synthetic_'+str(i)+'_'+str(run_id)+'_dt27_04_'+str(int(window_size))+'.csv',  index=False )\n",
        "  print('synth step : ', i, ' len : ', len(synthetic_data))"
      ],
      "execution_count": 0,
      "outputs": []
    },
    {
      "cell_type": "code",
      "metadata": {
        "id": "h0ziv32DCx7O",
        "colab_type": "code",
        "colab": {}
      },
      "source": [
        ""
      ],
      "execution_count": 0,
      "outputs": []
    }
  ]
}