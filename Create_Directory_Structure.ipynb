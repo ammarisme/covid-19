{
  "nbformat": 4,
  "nbformat_minor": 0,
  "metadata": {
    "colab": {
      "name": "Create Directory Structure.ipynb",
      "provenance": [],
      "authorship_tag": "ABX9TyOh3ZmBxfSMt3ejuXMeYKq+",
      "include_colab_link": true
    },
    "kernelspec": {
      "name": "python3",
      "display_name": "Python 3"
    }
  },
  "cells": [
    {
      "cell_type": "markdown",
      "metadata": {
        "id": "view-in-github",
        "colab_type": "text"
      },
      "source": [
        "<a href=\"https://colab.research.google.com/github/ammarisme/covid-19/blob/master/Create_Directory_Structure.ipynb\" target=\"_parent\"><img src=\"https://colab.research.google.com/assets/colab-badge.svg\" alt=\"Open In Colab\"/></a>"
      ]
    },
    {
      "cell_type": "markdown",
      "metadata": {
        "id": "9Y3v6FDkeYIA",
        "colab_type": "text"
      },
      "source": [
        "Create the input directory structure and copy the minimum and mandatory files to start the rest of the processes in the pipeline."
      ]
    },
    {
      "cell_type": "code",
      "metadata": {
        "id": "deeX8ZxCeXDT",
        "colab_type": "code",
        "colab": {}
      },
      "source": [
        "import os\n",
        "from os import path\n",
        "from google.colab import drive"
      ],
      "execution_count": 0,
      "outputs": []
    },
    {
      "cell_type": "code",
      "metadata": {
        "id": "osuQTFMiemIy",
        "colab_type": "code",
        "colab": {
          "base_uri": "https://localhost:8080/",
          "height": 34
        },
        "outputId": "888291c9-95e5-4859-bc1d-e85b7529018c"
      },
      "source": [
        "#configurations\n",
        "#drive.flush_and_unmount()\n",
        "drive.mount('/drive', force_remount=True)\n",
        "ROOT = \"/drive/My Drive/covid\"\n",
        "INPUT_DIR = \"/input_mix\""
      ],
      "execution_count": 7,
      "outputs": [
        {
          "output_type": "stream",
          "text": [
            "Mounted at /drive\n"
          ],
          "name": "stdout"
        }
      ]
    },
    {
      "cell_type": "code",
      "metadata": {
        "id": "TdzzxuC7e0Lo",
        "colab_type": "code",
        "colab": {}
      },
      "source": [
        "DIR = ROOT+INPUT_DIR\n",
        "if os.path.exists(DIR) == False:\n",
        "  print('creating directories...')\n",
        "  os.makedirs(DIR+'/training/cleaned')\n",
        "  os.makedirs(DIR+'/training/raw')\n",
        "  os.makedirs(DIR+'/validation/cleaned')\n",
        "  os.makedirs(DIR+'/validation/raw')\n",
        "  drive.flush_and_unmount()\n",
        "  drive.mount('/drive')\n",
        "  print('done')"
      ],
      "execution_count": 0,
      "outputs": []
    },
    {
      "cell_type": "code",
      "metadata": {
        "id": "IVSHAPVFfZpW",
        "colab_type": "code",
        "colab": {}
      },
      "source": [
        "from shutil import copyfile\n",
        "cleaned_file = ROOT+\"/input/validation/cleaned/cleaned_worldwide_cases_27_04.csv\"\n",
        "if os.path.exists(cleaned_file):\n",
        "  copyfile(ROOT+\"/input/validation/cleaned/cleaned_worldwide_cases_27_04.csv\", DIR+'/validation/cleaned/cleaned_worldwide_cases_27_04.csv')\n",
        "else:\n",
        "  print(\"file doesn\\'t exist\", cleaned_file)"
      ],
      "execution_count": 0,
      "outputs": []
    },
    {
      "cell_type": "code",
      "metadata": {
        "id": "3kCIdWBikyjW",
        "colab_type": "code",
        "colab": {}
      },
      "source": [
        ""
      ],
      "execution_count": 0,
      "outputs": []
    }
  ]
}