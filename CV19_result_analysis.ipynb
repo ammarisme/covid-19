{
  "nbformat": 4,
  "nbformat_minor": 0,
  "metadata": {
    "kernelspec": {
      "display_name": "Python 3",
      "language": "python",
      "name": "python3"
    },
    "language_info": {
      "codemirror_mode": {
        "name": "ipython",
        "version": 3
      },
      "file_extension": ".py",
      "mimetype": "text/x-python",
      "name": "python",
      "nbconvert_exporter": "python",
      "pygments_lexer": "ipython3",
      "version": "3.6.8"
    },
    "colab": {
      "name": "CV19-result-analysis.ipynb",
      "provenance": [],
      "collapsed_sections": [],
      "machine_shape": "hm",
      "include_colab_link": true
    }
  },
  "cells": [
    {
      "cell_type": "markdown",
      "metadata": {
        "id": "view-in-github",
        "colab_type": "text"
      },
      "source": [
        "<a href=\"https://colab.research.google.com/github/ammarisme/covid-19/blob/master/CV19_result_analysis.ipynb\" target=\"_parent\"><img src=\"https://colab.research.google.com/assets/colab-badge.svg\" alt=\"Open In Colab\"/></a>"
      ]
    },
    {
      "cell_type": "code",
      "metadata": {
        "id": "anKz91FjrQn3",
        "colab_type": "code",
        "outputId": "b1c2fd75-9c2e-4517-eaa4-f0ec5a4dc250",
        "colab": {
          "base_uri": "https://localhost:8080/",
          "height": 34
        }
      },
      "source": [
        "from __future__ import unicode_literals, print_function, division\n",
        "from io import open\n",
        "import unicodedata\n",
        "import string\n",
        "import re\n",
        "import random\n",
        "from functools import reduce\n",
        "import os\n",
        "\n",
        "import torch\n",
        "import torch.nn as nn\n",
        "import torch.nn.functional as F\n",
        "import numpy as np\n",
        "import pandas as pd\n",
        "\n",
        "from os import listdir\n",
        "from os.path import isfile, join\n",
        "\n",
        "device = torch.device(\"cuda\" if torch.cuda.is_available() else \"cpu\")\n",
        "print('running on '+ (\"GPU\" if torch.cuda.is_available() else \"CPU\"))"
      ],
      "execution_count": 10,
      "outputs": [
        {
          "output_type": "stream",
          "text": [
            "running on CPU\n"
          ],
          "name": "stdout"
        }
      ]
    },
    {
      "cell_type": "code",
      "metadata": {
        "id": "bFsXKb1CzwSY",
        "colab_type": "code",
        "outputId": "9a4d4daa-b5fe-43fa-a1ea-0c78ffdb18d8",
        "colab": {
          "base_uri": "https://localhost:8080/",
          "height": 34
        }
      },
      "source": [
        "from google.colab import drive\n",
        "drive.mount('/content/drive')\n",
        "PATH = '/content/drive/My Drive/covid'"
      ],
      "execution_count": 11,
      "outputs": [
        {
          "output_type": "stream",
          "text": [
            "Drive already mounted at /content/drive; to attempt to forcibly remount, call drive.mount(\"/content/drive\", force_remount=True).\n"
          ],
          "name": "stdout"
        }
      ]
    },
    {
      "cell_type": "code",
      "metadata": {
        "id": "fT0LUWio2hJp",
        "colab_type": "code",
        "colab": {}
      },
      "source": [
        "#os.remove(INPUT_ROOT+\"/processed/pre_transform.pt\")\n",
        "#os.remove(INPUT_ROOT+\"/processed/processed.dt\")\n",
        "#os.remove(INPUT_ROOT+\"/processed/pre_filter.pt\")\n",
        "#test dataset and loader\n",
        "input_sequence_len = 5\n",
        "output_sequence_len = 5\n",
        "feature_length = 8\n",
        "output_size = 2\n",
        "INPUT_ROOT = PATH+'/input/training'\n",
        "DATA_TAG = \"seq2seq_5_5\"\n",
        "PROCESSED_DIR = '/processed_'+DATA_TAG"
      ],
      "execution_count": 0,
      "outputs": []
    },
    {
      "cell_type": "code",
      "metadata": {
        "id": "i3KymLSjN91m",
        "colab_type": "code",
        "colab": {}
      },
      "source": [
        "\n",
        "def loss_file_search(mypath):\n",
        "  losses_files = [f for f in listdir(mypath) if (\"losses\" in f)]\n",
        "  for loss_file in losses_files:\n",
        "    losses = np.load(join(mypath, loss_file), allow_pickle=True)\n",
        "    training_loss = np.array(losses.tolist()['losses']).T[0]\n",
        "    plt.plot(training_loss)\n",
        "    #loss_analysis(losses)\n",
        "  \n",
        "  directories = [f for f in listdir(mypath) if os.path.isdir(join(mypath, f))]\n",
        "  for directory in directories:\n",
        "    loss_file_search(mypath+'/'+directory)"
      ],
      "execution_count": 0,
      "outputs": []
    },
    {
      "cell_type": "code",
      "metadata": {
        "id": "MlSW4je3USF9",
        "colab_type": "code",
        "colab": {
          "base_uri": "https://localhost:8080/",
          "height": 265
        },
        "outputId": "fb3f9689-f504-4ade-adee-f1d32a935609"
      },
      "source": [
        "import matplotlib.pyplot as plt\n",
        "from matplotlib.pyplot import ylim\n",
        "\n",
        "root = PATH+'/models__rnn/run4'\n",
        "#ylim(top=5.08, bottom=5.07)#, ylim_bottom=5.0\n",
        "loss_file_search(root)"
      ],
      "execution_count": 125,
      "outputs": [
        {
          "output_type": "display_data",
          "data": {
            "image/png": "[encoded data removed]",
            "text/plain": [
              "<Figure size 432x288 with 1 Axes>"
            ]
          },
          "metadata": {
            "tags": [],
            "needs_background": "light"
          }
        }
      ]
    },
    {
      "cell_type": "code",
      "metadata": {
        "id": "AtNJT5sQRI7F",
        "colab_type": "code",
        "colab": {}
      },
      "source": [
        "def loss_analysis(losses):\n",
        " print('loss analysis') "
      ],
      "execution_count": 0,
      "outputs": []
    },
    {
      "cell_type": "code",
      "metadata": {
        "id": "r-bCsXyXOOdg",
        "colab_type": "code",
        "colab": {
          "base_uri": "https://localhost:8080/",
          "height": 272
        },
        "outputId": "56b07f0d-aa61-4ba8-f0a3-07a240f8d4aa"
      },
      "source": [
        ""
      ],
      "execution_count": 21,
      "outputs": [
        {
          "output_type": "execute_result",
          "data": {
            "text/plain": [
              "['CV19 Cleaning.ipynb',\n",
              " 'CV19_Synthesis.ipynb',\n",
              " '_Common.ipynb',\n",
              " 'common (1).py',\n",
              " 'common.py',\n",
              " 'CV19Net.ipynb',\n",
              " 'rnn_model_configurations_1001_443838.csv',\n",
              " 'rnn_model_configurations_1001_165567.csv',\n",
              " 'rnn_model_configurations_1001_353166.csv',\n",
              " 'rnn_model_configurations_1001_57460.csv',\n",
              " 'rnn_model_configurations_1001_981028.csv',\n",
              " 'CV19 Dataset Explore.ipynb',\n",
              " 'CV19_Dataset.ipynb',\n",
              " 'RNN-CV19Net.ipynb',\n",
              " 'CV19-result-analysis.ipynb']"
            ]
          },
          "metadata": {
            "tags": []
          },
          "execution_count": 21
        }
      ]
    },
    {
      "cell_type": "code",
      "metadata": {
        "id": "wq7W28W7Pv4R",
        "colab_type": "code",
        "colab": {}
      },
      "source": [
        ""
      ],
      "execution_count": 0,
      "outputs": []
    }
  ]
}